{
 "cells": [
  {
   "cell_type": "markdown",
   "source": [
    "# Main of unit_tests.py\n",
    "\n",
    "This notebook run the units tests used to compare our framework with pytorch. Torch is therefore imported in unit_tests only for this purpose.\n",
    "\n",
    "All tests passed. Our framework gives similar results as pytorch for all our tests."
   ],
   "metadata": {
    "collapsed": false
   }
  },
  {
   "cell_type": "code",
   "execution_count": 1,
   "outputs": [],
   "source": [
    "import unit_tests as ut\n",
    "import torch\n",
    "\n",
    "import sys\n",
    "sys.path.append(\"..\")\n",
    "import model as proj"
   ],
   "metadata": {
    "collapsed": false,
    "pycharm": {
     "name": "#%%\n"
    }
   }
  },
  {
   "cell_type": "code",
   "execution_count": 6,
   "outputs": [
    {
     "name": "stdout",
     "output_type": "stream",
     "text": [
      "\u001B[92mTest 1 (passed, 5.193 sec): ReLU forward pass\n",
      "\u001B[92mTest 2 (passed, 0.063 sec): ReLU forward/backward pass\n",
      "\u001B[92mTest 3 (passed, 0.031 sec): Sigmoid forward pass\n",
      "\u001B[92mTest 4 (passed, 0.055 sec): Sigmoid forward/backward pass\n",
      "\u001B[92mTest 5 (passed, 5.053 sec): Conv2d forward pass\n",
      "\tin_channels=3, out_channels=5, kernel_size=5, dilation=2, padding=1, stride=2\n",
      "\u001B[92mTest 6 (passed, 0.339 sec): Conv2d forward/backward pass (dL/dX, dL/dW, dL/db)\n",
      "\tin_channels=3, out_channels=5, kernel_size=5, dilation=2, padding=1, stride=2\n",
      "\u001B[92mTest 7 (passed, 0.015 sec): TransposeConv2d forward pass\n",
      "\tin_channels=3, out_channels=5, kernel_size=5, dilation=2, padding=1, stride=2, output_padding=1\n",
      "\u001B[92mTest 8 (passed, 0.159 sec): TransposeConv2d forward/backward pass (dL/dX, dL/dW, dL/db)\n",
      "\tin_channels=3, out_channels=5, kernel_size=5, dilation=2, padding=1, stride=2, output_padding=1\n",
      "\u001B[92mTest 9 (passed, 0.055 sec): MSELoss forward pass (mean, sum)\n",
      "\u001B[92mTest 10 (passed, 0.119 sec): MSELoss forward/backward pass (mean, sum)\n",
      "\u001B[92mTest 11 (passed, 0.027 sec): Conv2d forward/backward pass with SGD (dL/dX, W update, b update)\n",
      "\u001B[92mTest 12 (passed, 0.087 sec): Parameter updates for Model forward/backward pass with SGD (layer1.W, layer1.b, layer1.W, layer1.b, layer1.W, layer1.b, layer1.W, layer1.b)\n",
      "\n",
      "\u001B[92m[12/12] All tests passed\n",
      "\u001B[0m\u001B[0m\u001B[92mTest 1 (passed): Conv2d forward pass\n",
      "\tin_channels=3, out_channels=12, kernel_size=12, dilation=1, padding=1, stride=2\n",
      "\u001B[92mTest 2 (passed): Conv2d forward/backward pass (dL/dX, dL/dW, dL/db)\n",
      "\tin_channels=3, out_channels=12, kernel_size=12, dilation=1, padding=1, stride=2\n",
      "\u001B[92mTest 3 (passed): Conv2d forward pass\n",
      "\tin_channels=12, out_channels=48, kernel_size=48, dilation=1, padding=1, stride=2\n",
      "\u001B[92mTest 4 (passed): Conv2d forward/backward pass (dL/dX, dL/dW, dL/db)\n",
      "\tin_channels=12, out_channels=48, kernel_size=48, dilation=1, padding=1, stride=2\n",
      "\u001B[92mTest 5 (passed): TransposeConv2d forward pass\n",
      "\tin_channels=48, out_channels=12, kernel_size=12, dilation=1, padding=1, stride=2, output_padding=1\n",
      "\u001B[92mTest 6 (passed): TransposeConv2d forward/backward pass (dL/dX, dL/dW, dL/db)\n",
      "\tin_channels=48, out_channels=12, kernel_size=12, dilation=1, padding=1, stride=2, output_padding=1\n",
      "\u001B[92mTest 7 (passed): TransposeConv2d forward pass\n",
      "\tin_channels=12, out_channels=3, kernel_size=3, dilation=1, padding=1, stride=2, output_padding=1\n",
      "\u001B[92mTest 8 (passed): TransposeConv2d forward/backward pass (dL/dX, dL/dW, dL/db)\n",
      "\tin_channels=12, out_channels=3, kernel_size=3, dilation=1, padding=1, stride=2, output_padding=1\n",
      "\n",
      "\u001B[92m[8/8] All tests passed\n",
      "\u001B[0m"
     ]
    }
   ],
   "source": [
    "torch.set_printoptions(precision=8)\n",
    "ut.Test() # runs all tests after being instantiated\n",
    "\n",
    "# Model creation example and testing of each of its Modules\n",
    "model = proj.Sequential(proj.Conv2d(in_channels=3, out_channels=12, kernel_size=3, dilation=1, padding=1, stride=2),\n",
    "                        proj.ReLU(),\n",
    "                        proj.Conv2d(in_channels=12, out_channels=48, kernel_size=3, dilation=1, padding=1, stride=2),\n",
    "                        proj.ReLU(),\n",
    "                        proj.TransposeConv2d(in_channels=48, out_channels=12, kernel_size=3, dilation=1, padding=1, stride=2, output_padding=1),\n",
    "                        proj.ReLU(),\n",
    "                        proj.TransposeConv2d(in_channels=12, out_channels=3, kernel_size=3, dilation=1, padding=1, stride=2, output_padding=1),\n",
    "                        proj.Sigmoid())\n",
    "TestModel = ut.Test(run_list=[]) # no tests run during instantiation\n",
    "for module in model.modules:\n",
    "    module.test(TestModel)\n",
    "TestModel.print_tests()"
   ],
   "metadata": {
    "collapsed": false,
    "pycharm": {
     "name": "#%%\n"
    }
   }
  },
  {
   "cell_type": "code",
   "execution_count": null,
   "outputs": [],
   "source": [],
   "metadata": {
    "collapsed": false,
    "pycharm": {
     "name": "#%%\n"
    }
   }
  }
 ],
 "metadata": {
  "kernelspec": {
   "display_name": "Python 3 (ipykernel)",
   "language": "python",
   "name": "python3"
  },
  "language_info": {
   "codemirror_mode": {
    "name": "ipython",
    "version": 3
   },
   "file_extension": ".py",
   "mimetype": "text/x-python",
   "name": "python",
   "nbconvert_exporter": "python",
   "pygments_lexer": "ipython3",
   "version": "3.8.10"
  }
 },
 "nbformat": 4,
 "nbformat_minor": 4
}