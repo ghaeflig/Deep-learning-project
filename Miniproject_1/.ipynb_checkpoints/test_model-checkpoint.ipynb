{
 "cells": [
  {
   "cell_type": "code",
   "execution_count": 18,
   "metadata": {},
   "outputs": [
    {
     "name": "stdout",
     "output_type": "stream",
     "text": [
      "The autoreload extension is already loaded. To reload it, use:\n",
      "  %reload_ext autoreload\n"
     ]
    }
   ],
   "source": [
    "import torch\n",
    "#import matplotlib.pyplot as plt\n",
    "from model import *\n",
    "\n",
    "%load_ext autoreload\n",
    "%autoreload 2"
   ]
  },
  {
   "cell_type": "markdown",
   "metadata": {},
   "source": [
    "Import images, sample and transform into float (to correspond to model)"
   ]
  },
  {
   "cell_type": "code",
   "execution_count": 19,
   "metadata": {},
   "outputs": [
    {
     "name": "stdout",
     "output_type": "stream",
     "text": [
      "torch.Size([100, 3, 32, 32]) torch.Size([100, 3, 32, 32])\n"
     ]
    }
   ],
   "source": [
    "noisy_imgs_1, noisy_imgs_2 = torch.load('../data/train_data.pkl')\n",
    "noisy_imgs_1, noisy_imgs_2 = noisy_imgs_1.float(), noisy_imgs_2.float()\n",
    "\n",
    "img_samples_1, img_samples_2 = noisy_imgs_1[:100], noisy_imgs_2[:100]\n",
    "print(img_samples_1.shape, img_samples_2.shape)"
   ]
  },
  {
   "cell_type": "markdown",
   "metadata": {},
   "source": [
    "Parameters"
   ]
  },
  {
   "cell_type": "code",
   "execution_count": 20,
   "metadata": {},
   "outputs": [],
   "source": [
    "# architecture\n",
    "in_channels = out_channels = noisy_imgs_1.shape[1]\n",
    "conv_by_level = 2\n",
    "features = [16,32,64]\n",
    "pooling_type = 'max'\n",
    "batch_norm = True\n",
    "dropout = 0\n",
    "model_ARGS = [in_channels, out_channels, conv_by_level, features, pooling_type, batch_norm, dropout]\n",
    "\n",
    "# training\n",
    "optimizer = 'SGD' #torch.optim.SGD(Model.parameters(), lr=0.01, momentum = 0.9) \n",
    "loss_func = nn.MSELoss() # nn.lL1Loss()\n",
    "batch_size = 10\n",
    "num_epoch = 5\n",
    "train_ARGS = [optimizer, loss_func, batch_size, num_epoch]\n",
    "\n",
    "# control arg\n",
    "shape_control = True"
   ]
  },
  {
   "cell_type": "markdown",
   "metadata": {},
   "source": [
    "Model test"
   ]
  },
  {
   "cell_type": "code",
   "execution_count": 27,
   "metadata": {},
   "outputs": [
    {
     "name": "stdout",
     "output_type": "stream",
     "text": [
      "Forward pass done.\n"
     ]
    }
   ],
   "source": [
    "Noise2noise = Model(model_ARGS, train_ARGS, shape_control)\n",
    "Noise2noise(img_samples_1)\n",
    "print('Forward pass done.')"
   ]
  },
  {
   "cell_type": "code",
   "execution_count": 28,
   "metadata": {},
   "outputs": [],
   "source": [
    "Noise2noise = Model(model_ARGS, train_ARGS, shape_control=False)"
   ]
  },
  {
   "cell_type": "code",
   "execution_count": 30,
   "metadata": {},
   "outputs": [
    {
     "name": "stdout",
     "output_type": "stream",
     "text": [
      "Batch 5 : 0.21 sec\n",
      "Batch 10 : 0.45 sec\n",
      "Epoch [1/5], Train loss: nan\n",
      "Batch 5 : 0.18 sec\n",
      "Batch 10 : 0.44 sec\n",
      "Epoch [2/5], Train loss: nan\n",
      "Batch 5 : 0.17 sec\n",
      "Batch 10 : 0.41 sec\n",
      "Epoch [3/5], Train loss: nan\n",
      "Batch 5 : 0.19 sec\n",
      "Batch 10 : 0.45 sec\n",
      "Epoch [4/5], Train loss: nan\n",
      "Batch 5 : 0.17 sec\n",
      "Batch 10 : 0.43 sec\n",
      "Epoch [5/5], Train loss: nan\n"
     ]
    },
    {
     "data": {
      "text/plain": [
       "[nan, nan, nan, nan, nan]"
      ]
     },
     "execution_count": 30,
     "metadata": {},
     "output_type": "execute_result"
    }
   ],
   "source": [
    "Noise2noise.train(img_samples_1, img_samples_2)"
   ]
  },
  {
   "cell_type": "code",
   "execution_count": null,
   "metadata": {},
   "outputs": [],
   "source": []
  }
 ],
 "metadata": {
  "kernelspec": {
   "display_name": "Python 3",
   "language": "python",
   "name": "python3"
  },
  "language_info": {
   "codemirror_mode": {
    "name": "ipython",
    "version": 3
   },
   "file_extension": ".py",
   "mimetype": "text/x-python",
   "name": "python",
   "nbconvert_exporter": "python",
   "pygments_lexer": "ipython3",
   "version": "3.8.3"
  }
 },
 "nbformat": 4,
 "nbformat_minor": 4
}
