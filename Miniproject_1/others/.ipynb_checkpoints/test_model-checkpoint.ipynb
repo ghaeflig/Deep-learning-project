{
 "cells": [
  {
   "cell_type": "code",
   "execution_count": 5,
   "metadata": {},
   "outputs": [
    {
     "ename": "TabError",
     "evalue": "inconsistent use of tabs and spaces in indentation (helpers.py, line 12)",
     "output_type": "error",
     "traceback": [
      "Traceback \u001b[1;36m(most recent call last)\u001b[0m:\n",
      "  File \u001b[0;32m~\\anaconda3\\envs\\ML-IP\\lib\\site-packages\\IPython\\core\\interactiveshell.py:3369\u001b[0m in \u001b[0;35mrun_code\u001b[0m\n    exec(code_obj, self.user_global_ns, self.user_ns)\n",
      "\u001b[1;36m  Input \u001b[1;32mIn [5]\u001b[1;36m in \u001b[1;35m<cell line: 6>\u001b[1;36m\u001b[0m\n\u001b[1;33m    from helpers import *\u001b[0m\n",
      "\u001b[1;36m  File \u001b[1;32m~\\EPFL\\Deep learning\\PROJECT\\Deep-learning-project\\Miniproject_1\\others\\helpers.py:12\u001b[1;36m\u001b[0m\n\u001b[1;33m    return -10 * torch.log10(mse + 10** -8)\u001b[0m\n\u001b[1;37m    ^\u001b[0m\n\u001b[1;31mTabError\u001b[0m\u001b[1;31m:\u001b[0m inconsistent use of tabs and spaces in indentation\n"
     ]
    }
   ],
   "source": [
    "import torch\n",
    "import sys\n",
    "#import matplotlib.pyplot as plt\n",
    "#sys.path.append('../')\n",
    "from model import *\n",
    "from helpers import *\n",
    "\n",
    "%reload_ext autoreload\n",
    "%autoreload 2"
   ]
  },
  {
   "cell_type": "markdown",
   "metadata": {},
   "source": [
    "Import images, sample and transform into float (to correspond to model)"
   ]
  },
  {
   "cell_type": "code",
   "execution_count": null,
   "metadata": {},
   "outputs": [],
   "source": [
    "noisy_imgs_1, noisy_imgs_2 = torch.load('../../data/train_data.pkl')\n",
    "noisy_imgs_1, noisy_imgs_2 = noisy_imgs_1.float()/255, noisy_imgs_2.float()/255\n",
    "\n",
    "img_samples_1, img_samples_2 = noisy_imgs_1[:100], noisy_imgs_2[:100]\n",
    "print(img_samples_1.shape, img_samples_2.shape)"
   ]
  },
  {
   "cell_type": "code",
   "execution_count": 20,
   "metadata": {},
   "outputs": [
    {
     "data": {
      "image/png": "[encoded data removed]",
      "text/plain": [
       "<Figure size 432x288 with 1 Axes>"
      ]
     },
     "metadata": {
      "needs_background": "light"
     },
     "output_type": "display_data"
    },
    {
     "data": {
      "image/png": "[encoded data removed]",
      "text/plain": [
       "<Figure size 432x288 with 1 Axes>"
      ]
     },
     "metadata": {
      "needs_background": "light"
     },
     "output_type": "display_data"
    }
   ],
   "source": [
    "import matplotlib.pyplot as plt\n",
    "idx = 60\n",
    "plt.imshow(img_samples_1[idx,:,:,:].permute(1,2,0))\n",
    "plt.show()\n",
    "plt.imshow(img_samples_2[idx,:,:,:].permute(1,2,0))\n",
    "plt.show()"
   ]
  },
  {
   "cell_type": "markdown",
   "metadata": {},
   "source": [
    "Parameters"
   ]
  },
  {
   "cell_type": "code",
   "execution_count": 21,
   "metadata": {},
   "outputs": [],
   "source": [
    "DEVICE = \"cuda\" if torch.cuda.is_available() else \"cpu\""
   ]
  },
  {
   "cell_type": "code",
   "execution_count": 22,
   "metadata": {},
   "outputs": [],
   "source": [
    "# architecture\n",
    "in_channels = out_channels = noisy_imgs_1.shape[1]\n",
    "conv_by_level = 2\n",
    "features = [16,32,64]\n",
    "pooling_type = 'max'\n",
    "batch_norm = True\n",
    "dropout = 0\n",
    "model_ARGS = [in_channels, out_channels, conv_by_level, features, pooling_type, batch_norm, dropout]\n",
    "\n",
    "# training\n",
    "optimizer = 'SGD' #torch.optim.SGD(Model.parameters(), lr=0.01, momentum = 0.9) \n",
    "loss_func = nn.MSELoss().to(DEVICE) #psnr loss provided in the pdf ? It's in the others/helpers.py # nn.lL1Loss()\n",
    "batch_size = 10\n",
    "num_epoch = 5\n",
    "data_aug = True\n",
    "train_ARGS = [optimizer, loss_func, batch_size, num_epoch, data_aug]\n",
    "\n",
    "\n",
    "# control arg\n",
    "shape_control = True"
   ]
  },
  {
   "cell_type": "markdown",
   "metadata": {},
   "source": [
    "Model test"
   ]
  },
  {
   "cell_type": "code",
   "execution_count": 23,
   "metadata": {},
   "outputs": [
    {
     "name": "stdout",
     "output_type": "stream",
     "text": [
      "Original shape: torch.Size([100, 3, 32, 32])\n",
      "Level 1: conv shape: torch.Size([100, 16, 32, 32]), pooled shape: torch.Size([100, 16, 16, 16])\n",
      "Level 2: conv shape: torch.Size([100, 32, 16, 16]), pooled shape: torch.Size([100, 32, 8, 8])\n",
      "Level 3: conv shape: torch.Size([100, 64, 8, 8]), pooled shape: torch.Size([100, 64, 4, 4])\n",
      "Deepest shape: torch.Size([100, 128, 4, 4])\n",
      "Level 3: upscaled shape: torch.Size([100, 64, 8, 8]), concat shape: torch.Size([100, 128, 8, 8]), conv shape: torch.Size([100, 64, 8, 8])\n",
      "Level 2: upscaled shape: torch.Size([100, 32, 16, 16]), concat shape: torch.Size([100, 64, 16, 16]), conv shape: torch.Size([100, 32, 16, 16])\n",
      "Level 1: upscaled shape: torch.Size([100, 16, 32, 32]), concat shape: torch.Size([100, 32, 32, 32]), conv shape: torch.Size([100, 16, 32, 32])\n",
      "Final shape: torch.Size([100, 3, 32, 32])\n",
      "Forward pass done.\n"
     ]
    }
   ],
   "source": [
    "Noise2noise = Model().to(DEVICE)\n",
    "Noise2noise = Model(model_ARGS, train_ARGS, shape_control)\n",
    "Noise2noise(img_samples_1)\n",
    "print('Forward pass done.')"
   ]
  },
  {
   "cell_type": "code",
   "execution_count": 24,
   "metadata": {},
   "outputs": [],
   "source": [
    "Noise2noise = Model(model_ARGS, train_ARGS, shape_control=False)"
   ]
  },
  {
   "cell_type": "code",
   "execution_count": 27,
   "metadata": {},
   "outputs": [
    {
     "name": "stdout",
     "output_type": "stream",
     "text": [
      "Data augmentation...\n",
      "\n",
      "Things will go much quicker if you enable a GPU\n",
      "Batch 5 : 0.56 sec\n",
      "Batch 10 : 1.12 sec\n",
      "Batch 15 : 1.63 sec\n",
      "Epoch [1/5], Train loss: 0.1965 Validation loss: 0.1856\n",
      "=> Saving checkpoint\n",
      "Batch 5 : 0.41 sec\n",
      "Batch 10 : 0.92 sec\n",
      "Batch 15 : 1.45 sec\n",
      "Epoch [2/5], Train loss: 0.0486 Validation loss: 0.0673\n",
      "=> Saving checkpoint\n",
      "Batch 5 : 0.41 sec\n",
      "Batch 10 : 0.93 sec\n",
      "Batch 15 : 1.45 sec\n",
      "Epoch [3/5], Train loss: 0.0332 Validation loss: 0.0752\n",
      "Batch 5 : 0.41 sec\n",
      "Batch 10 : 0.92 sec\n",
      "Batch 15 : 1.44 sec\n",
      "Epoch [4/5], Train loss: 0.0299 Validation loss: 0.0790\n",
      "Batch 5 : 0.41 sec\n",
      "Batch 10 : 0.97 sec\n",
      "Batch 15 : 1.49 sec\n",
      "Epoch [5/5], Train loss: 0.0285 Validation loss: 0.0807\n",
      "Training finished with best best results at epoch 2 | Training loss : 0.0486 | Validation loss : 0.0673 \n"
     ]
    }
   ],
   "source": [
    "output = Noise2noise.train(img_samples_1, img_samples_2)"
   ]
  },
  {
   "cell_type": "code",
   "execution_count": null,
   "metadata": {},
   "outputs": [],
   "source": [
    "Noise2noise.load_pretrained_model()"
   ]
  },
  {
   "cell_type": "code",
   "execution_count": null,
   "metadata": {},
   "outputs": [],
   "source": [
    "noisy_test , clean_test = torch.load ('../data/val_data.pkl')\n",
    "noisy_test, clean_test = noisy_test.float()/255, clean_test.float()/255\n",
    "noisy_test_sample,  clean_test_sample = noisy_test[:100], clean_test[:100]"
   ]
  },
  {
   "cell_type": "code",
   "execution_count": null,
   "metadata": {},
   "outputs": [],
   "source": [
    "import matplotlib.pyplot as plt\n",
    "idx = 90\n",
    "plt.imshow(noisy_test_sample[idx,:,:,:].permute(1,2,0))\n",
    "plt.show()\n",
    "plt.imshow(clean_test_sample[idx,:,:,:].permute(1,2,0))\n",
    "plt.show()"
   ]
  },
  {
   "cell_type": "code",
   "execution_count": null,
   "metadata": {},
   "outputs": [],
   "source": [
    "test_output = Noise2noise.predict(noisy_test_sample)"
   ]
  },
  {
   "cell_type": "code",
   "execution_count": null,
   "metadata": {},
   "outputs": [],
   "source": [
    "print(psnr(test_output, clean_test_sample))"
   ]
  },
  {
   "cell_type": "code",
   "execution_count": null,
   "metadata": {},
   "outputs": [],
   "source": [
    "plot_img_end(denoised=test_output, ground_truth=clean_test_sample)"
   ]
  }
 ],
 "metadata": {
  "kernelspec": {
   "display_name": "Python 3 (ipykernel)",
   "language": "python",
   "name": "python3"
  },
  "language_info": {
   "codemirror_mode": {
    "name": "ipython",
    "version": 3
   },
   "file_extension": ".py",
   "mimetype": "text/x-python",
   "name": "python",
   "nbconvert_exporter": "python",
   "pygments_lexer": "ipython3",
   "version": "3.9.12"
  }
 },
 "nbformat": 4,
 "nbformat_minor": 4
}
