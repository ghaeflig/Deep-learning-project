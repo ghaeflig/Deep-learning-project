{
 "cells": [
  {
   "cell_type": "code",
   "execution_count": 1,
   "id": "2eaaf10d-9480-4dd9-b570-b024cbec536d",
   "metadata": {},
   "outputs": [],
   "source": [
    "import torch\n",
    "import matplotlib.pyplot as plt"
   ]
  },
  {
   "cell_type": "code",
   "execution_count": null,
   "id": "86a290c0-67b8-434c-bb97-e0d936c7072f",
   "metadata": {},
   "outputs": [],
   "source": [
    "fig, axes = plt.subplots(ncols = 2, figsize = (13,6))\n",
    "\n",
    "# labels defined with respect to runs defined in the tunings_script.sh\n",
    "labels = ['baseline', 'w/o batchnorm', 'max pooling', '1-conv layers', 'Adam', 'Adagrad', 'MAE', 'dropout: 0.5', 'more depth']\n",
    "for i, label in zip(range(1,10,1), labels):\n",
    "    # load losses\n",
    "    losses = torch.load(f'run{i}/train_val_loss')\n",
    "    # plot train and val losses\n",
    "    axes[0].plot(losses[0], label = label)\n",
    "    axes[1].plot(losses[1])\n",
    "    \n",
    "axes[0].set_title('train loss')\n",
    "axes[1].set_title('validation loss')\n",
    "axes[0].set_xlabel('epoch')\n",
    "axes[0].set_ylabel('loss')\n",
    "axes[1].set_xlabel('epoch')\n",
    "\n",
    "fig.suptitle('Comparison of performance for different model settings')\n",
    "fig.legend()\n",
    "fig.savefig('Performances')\n",
    "fig.show()"
   ]
  },
  {
   "cell_type": "code",
   "execution_count": null,
   "id": "85ad2eff-994d-4859-bf8f-ec0bca7a2a7c",
   "metadata": {},
   "outputs": [],
   "source": []
  }
 ],
 "metadata": {
  "kernelspec": {
   "display_name": "Python 3 (ipykernel)",
   "language": "python",
   "name": "python3"
  },
  "language_info": {
   "codemirror_mode": {
    "name": "ipython",
    "version": 3
   },
   "file_extension": ".py",
   "mimetype": "text/x-python",
   "name": "python",
   "nbconvert_exporter": "python",
   "pygments_lexer": "ipython3",
   "version": "3.8.13"
  }
 },
 "nbformat": 4,
 "nbformat_minor": 5
}
